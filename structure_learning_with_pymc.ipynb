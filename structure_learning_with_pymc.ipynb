{
 "cells": [
  {
   "cell_type": "markdown",
   "metadata": {},
   "source": [
    "# Structure learning with PyMC3\n",
    "\n",
    "This notebook shows how one can use `PyMC3` to learn the structure of a Bayesian network $P(X_1, \\dots, X_p)$.\n",
    "A question on [PyMC Discourse](https://discourse.pymc.io/t/structure-learning-of-bayesian-networks/3845/11) made me wonder with how much extra effort this could be achieved. \n",
    "\n",
    "There are of course way better resources than a Jupyter notebook, so I'll not be explaining much theory here. See for instance Daphne Koller's and Nir Friedman's [book](https://mitpress.mit.edu/books/probabilistic-graphical-models). We will use the *student network* example from the book.\n",
    "\n",
    "**As usual I do not take warranty for the correctness or completeness of this document.**\n",
    "\n",
    "The relevant code can be found [here](https://github.com/dirmeier/structure-learning-with-pymc).\n",
    "\n",
    "The goal of this notebook is to learn the structure $G$ of a Bayesian network \n",
    "\n",
    "\\begin{align}\n",
    "P(X_1, \\dots, X_p \\mid G) & = \\prod_{i=1}^p P(X_i \\mid \\mathbf{pa}_{X_i})\n",
    "\\end{align}\n",
    "\n",
    "where the parents-child relations are encoded by the dag $G$. Following most of the literature, we will treat $G$ as a random variable, i.e. in a Bayesian context. The optimization problem we try to solve is:\n",
    "\n",
    "\\begin{align}\n",
    "\\hat{G} = \\arg \\max P(D \\mid G) \\ P(G),\n",
    "\\end{align}\n",
    "\n",
    "i.e. we marginalize out all the parameters of the local probability tables."
   ]
  },
  {
   "cell_type": "code",
   "execution_count": 1,
   "metadata": {},
   "outputs": [],
   "source": [
    "import numpy\n",
    "\n",
    "import networkx\n",
    "import scipy.stats\n",
    "import matplotlib.pyplot as plt\n",
    "import pandas as pd\n",
    "import pymc3 as pm"
   ]
  },
  {
   "cell_type": "markdown",
   "metadata": {},
   "source": [
    "In order to do structure learning, implementing a couple of small python modules is enough:"
   ]
  },
  {
   "cell_type": "code",
   "execution_count": 2,
   "metadata": {},
   "outputs": [],
   "source": [
    "from bn.bayesian_network import BayesianNetwork\n",
    "from bn.dag import DAG\n",
    "from bn.dag_prior import DAGPrior\n",
    "from bn.sampler import StructureMCMC\n",
    "from bn.variable import Variable"
   ]
  },
  {
   "cell_type": "markdown",
   "metadata": {},
   "source": [
    "We shall assume that the variables $X_i$ we use are categorical, such that local conditional distributions $P(X_i \\mid \\mathbf{pa}_{X_i})$ can be expressed as probability tables. To encode this properly I created a class `Variable` that describes a variable that can have parents. For instance, for the *student network* one variable is difficulty:"
   ]
  },
  {
   "cell_type": "code",
   "execution_count": 3,
   "metadata": {},
   "outputs": [
    {
     "name": "stdout",
     "output_type": "stream",
     "text": [
      "  difficulty  probability\n",
      "0       easy          0.6\n",
      "1       hard          0.4\n"
     ]
    }
   ],
   "source": [
    "difficulty = Variable(\n",
    "  \"difficulty\", [\"easy\", \"hard\"],\n",
    "  pd.DataFrame(\n",
    "    {\"difficulty\": [\"easy\", \"hard\"],\n",
    "     \"probability\": [0.6, 0.4]}))\n",
    "print(difficulty.lpd)"
   ]
  },
  {
   "cell_type": "markdown",
   "metadata": {},
   "source": [
    "Doing this for all other variables, too, gives us the entire student network. I am using `has_studied` instead of `intelligence` though, cause it is a more sensitive way to classify people."
   ]
  },
  {
   "cell_type": "code",
   "execution_count": 4,
   "metadata": {},
   "outputs": [
    {
     "name": "stdout",
     "output_type": "stream",
     "text": [
      "  has_studied  probability\n",
      "0          no          0.7\n",
      "1         yes          0.3\n"
     ]
    }
   ],
   "source": [
    "has_studied = Variable(\n",
    "  \"has_studied\", [\"no\", \"yes\"],\n",
    "  pd.DataFrame(\n",
    "    {\"has_studied\": [\"no\", \"yes\"],\n",
    "     \"probability\": [0.7, 0.3]}))\n",
    "print(has_studied.lpd)"
   ]
  },
  {
   "cell_type": "code",
   "execution_count": 5,
   "metadata": {},
   "outputs": [
    {
     "name": "stdout",
     "output_type": "stream",
     "text": [
      "  has_studied   sat  probability\n",
      "0          no   low         0.95\n",
      "1          no  high         0.05\n",
      "2         yes   low         0.20\n",
      "3         yes  high         0.80\n"
     ]
    }
   ],
   "source": [
    "sat = Variable(\n",
    "  \"sat\", [\"low\", \"high\"],\n",
    "  pd.DataFrame(\n",
    "    {\"has_studied\": numpy.repeat([\"no\", \"yes\"], 2),\n",
    "     \"sat\": numpy.tile([\"low\", \"high\"], 2),\n",
    "     \"probability\": [0.95, 0.05, 0.2, 0.8]}))\n",
    "print(sat.lpd)"
   ]
  },
  {
   "cell_type": "code",
   "execution_count": 6,
   "metadata": {},
   "outputs": [
    {
     "name": "stdout",
     "output_type": "stream",
     "text": [
      "  grade  letter  probability\n",
      "0  good    weak         0.10\n",
      "1  good  strong         0.90\n",
      "2    ok    weak         0.40\n",
      "3    ok  strong         0.60\n",
      "4   bad    weak         0.99\n",
      "5   bad  strong         0.01\n"
     ]
    }
   ],
   "source": [
    "letter = Variable(\n",
    "  \"letter\", [\"weak\", \"strong\"],\n",
    "  pd.DataFrame(\n",
    "    {\"grade\": numpy.repeat([\"good\", \"ok\", \"bad\"], 2),\n",
    "     \"letter\": numpy.tile([\"weak\", \"strong\"], 3),\n",
    "     \"probability\": [0.1, 0.9, 0.4, 0.6, 0.99, 0.01]}))\n",
    "print(letter.lpd)"
   ]
  },
  {
   "cell_type": "code",
   "execution_count": 7,
   "metadata": {},
   "outputs": [
    {
     "name": "stdout",
     "output_type": "stream",
     "text": [
      "   difficulty has_studied grade  probability\n",
      "0        easy          no  good         0.30\n",
      "1        easy          no    ok         0.40\n",
      "2        easy          no   bad         0.30\n",
      "3        hard          no  good         0.05\n",
      "4        hard          no    ok         0.25\n",
      "5        hard          no   bad         0.70\n",
      "6        easy         yes  good         0.90\n",
      "7        easy         yes    ok         0.08\n",
      "8        easy         yes   bad         0.02\n",
      "9        hard         yes  good         0.50\n",
      "10       hard         yes    ok         0.30\n",
      "11       hard         yes   bad         0.20\n"
     ]
    }
   ],
   "source": [
    "grade = Variable(\n",
    "  \"grade\", [\"good\", \"ok\", \"bad\"],\n",
    "  pd.DataFrame(\n",
    "    {\"difficulty\": numpy.tile(numpy.repeat([\"easy\", \"hard\"], 3), 2),\n",
    "     \"has_studied\": numpy.repeat([\"no\", \"yes\"], 6),\n",
    "     \"grade\": numpy.tile([\"good\", \"ok\", \"bad\"], 4),\n",
    "     \"probability\": [0.3, 0.4, 0.3, 0.05, 0.25, 0.7, 0.9, 0.08, 0.02, 0.5, 0.3, 0.2]}))\n",
    "print(grade.lpd)"
   ]
  },
  {
   "cell_type": "markdown",
   "metadata": {},
   "source": [
    "In addition we need some class that encodes the structure itself, i.e., a random variable that we can optimize over. It is easiest to ecnode the structure as an adjacency matrix $G$:"
   ]
  },
  {
   "cell_type": "code",
   "execution_count": 8,
   "metadata": {},
   "outputs": [],
   "source": [
    "adj = numpy.array(\n",
    "  [\n",
    "      [0, 1, 0, 0, 0],\n",
    "      [0, 0, 0, 1, 0],\n",
    "      [0, 1, 0, 0, 1],\n",
    "      [0, 0, 0, 0, 0],\n",
    "      [0, 0, 0, 0, 0]\n",
    "  ], dtype=numpy.int8)"
   ]
  },
  {
   "cell_type": "markdown",
   "metadata": {},
   "source": [
    "The variables $X_i$ and the adj $G$ define the Bayesian network. A Bayesian network is a random variable, so we put it into a model block. For now, we keep the DAG fixed."
   ]
  },
  {
   "cell_type": "code",
   "execution_count": 9,
   "metadata": {},
   "outputs": [],
   "source": [
    "with pm.Model() as m:\n",
    "    dag = DAG(variables=[difficulty, grade, has_studied, letter, sat], adj=adj)\n",
    "    bn = BayesianNetwork('bn', dag=dag)"
   ]
  },
  {
   "cell_type": "markdown",
   "metadata": {},
   "source": [
    "Let's visualize the network:"
   ]
  },
  {
   "cell_type": "code",
   "execution_count": 10,
   "metadata": {},
   "outputs": [
    {
     "data": {
      "image/png": "[encoded data removed]",
      "text/plain": [
       "<Figure size 432x288 with 1 Axes>"
      ]
     },
     "metadata": {},
     "output_type": "display_data"
    }
   ],
   "source": [
    "G = bn.distribution.as_graph()\n",
    "layout = networkx.shell_layout(G)\n",
    "layout[difficulty] = numpy.array([2, 4])\n",
    "layout[has_studied] = numpy.array([4, 4])\n",
    "layout[grade] = numpy.array([3, 3])\n",
    "layout[letter] = numpy.array([3, 2])\n",
    "layout[sat] = numpy.array([4, 3])\n",
    "\n",
    "networkx.draw(G, pos=layout, with_labels=True)"
   ]
  },
  {
   "cell_type": "markdown",
   "metadata": {},
   "source": [
    "Since we implemented everything against PyMC we can use the network to generate data:"
   ]
  },
  {
   "cell_type": "code",
   "execution_count": 17,
   "metadata": {},
   "outputs": [],
   "source": [
    "with m:    \n",
    "    data = pm.sample_prior_predictive(1000, random_seed=23)['bn']"
   ]
  },
  {
   "cell_type": "markdown",
   "metadata": {},
   "source": [
    "Note that when we create date, it is encoded as integers to comply with PyMC."
   ]
  },
  {
   "cell_type": "code",
   "execution_count": 12,
   "metadata": {},
   "outputs": [
    {
     "data": {
      "text/html": [
       "<div>\n",
       "<style scoped>\n",
       "    .dataframe tbody tr th:only-of-type {\n",
       "        vertical-align: middle;\n",
       "    }\n",
       "\n",
       "    .dataframe tbody tr th {\n",
       "        vertical-align: top;\n",
       "    }\n",
       "\n",
       "    .dataframe thead th {\n",
       "        text-align: right;\n",
       "    }\n",
       "</style>\n",
       "<table border=\"1\" class=\"dataframe\">\n",
       "  <thead>\n",
       "    <tr style=\"text-align: right;\">\n",
       "      <th></th>\n",
       "      <th>difficulty</th>\n",
       "      <th>grade</th>\n",
       "      <th>has_studied</th>\n",
       "      <th>letter</th>\n",
       "      <th>sat</th>\n",
       "    </tr>\n",
       "  </thead>\n",
       "  <tbody>\n",
       "    <tr>\n",
       "      <th>0</th>\n",
       "      <td>1</td>\n",
       "      <td>0</td>\n",
       "      <td>1</td>\n",
       "      <td>0</td>\n",
       "      <td>1</td>\n",
       "    </tr>\n",
       "    <tr>\n",
       "      <th>1</th>\n",
       "      <td>1</td>\n",
       "      <td>1</td>\n",
       "      <td>1</td>\n",
       "      <td>0</td>\n",
       "      <td>0</td>\n",
       "    </tr>\n",
       "    <tr>\n",
       "      <th>2</th>\n",
       "      <td>1</td>\n",
       "      <td>0</td>\n",
       "      <td>0</td>\n",
       "      <td>0</td>\n",
       "      <td>1</td>\n",
       "    </tr>\n",
       "    <tr>\n",
       "      <th>3</th>\n",
       "      <td>0</td>\n",
       "      <td>2</td>\n",
       "      <td>1</td>\n",
       "      <td>0</td>\n",
       "      <td>1</td>\n",
       "    </tr>\n",
       "    <tr>\n",
       "      <th>4</th>\n",
       "      <td>0</td>\n",
       "      <td>0</td>\n",
       "      <td>1</td>\n",
       "      <td>1</td>\n",
       "      <td>0</td>\n",
       "    </tr>\n",
       "  </tbody>\n",
       "</table>\n",
       "</div>"
      ],
      "text/plain": [
       "  difficulty grade has_studied letter sat\n",
       "0          1     0           1      0   1\n",
       "1          1     1           1      0   0\n",
       "2          1     0           0      0   1\n",
       "3          0     2           1      0   1\n",
       "4          0     0           1      1   0"
      ]
     },
     "execution_count": 12,
     "metadata": {},
     "output_type": "execute_result"
    }
   ],
   "source": [
    "data.head()"
   ]
  },
  {
   "cell_type": "markdown",
   "metadata": {},
   "source": [
    "We can also sample from the posterior. However, for structure learning we are usually interested in point estimates and not the full posterior. Since the DAG space is too big, doing proper Bayesian inference is futile anyway. \n",
    "\n",
    "If we want to sample from the posterior, we need to treat the DAG as a random variable, so the code block changes a little. Doing posterior inference required implementation of a proper sampler (structure MCMC), which is able to add/remove/reverse edges of the DAG."
   ]
  },
  {
   "cell_type": "code",
   "execution_count": 18,
   "metadata": {},
   "outputs": [
    {
     "name": "stderr",
     "output_type": "stream",
     "text": [
      "Only 5 samples in chain.\n",
      "Sequential sampling (1 chains in 1 job)\n",
      "StructureMCMC: [dag]\n",
      "100%|██████████| 6/6 [00:02<00:00,  2.48it/s]\n"
     ]
    }
   ],
   "source": [
    "with pm.Model():\n",
    "    dag = DAGPrior(\n",
    "        'dag', variables=[difficulty, grade, has_studied, letter, sat])\n",
    "    bn = BayesianNetwork('bn', dag=dag, observed=data)\n",
    "    step = StructureMCMC([dag], data=data)\n",
    "    trace = pm.sample(draws=5, tune=1, chains=1, cores=1,\n",
    "                      step=step, random_seed=23)"
   ]
  },
  {
   "cell_type": "code",
   "execution_count": 19,
   "metadata": {},
   "outputs": [
    {
     "data": {
      "text/plain": [
       "array([[[0, 0, 0, 1, 0],\n",
       "        [0, 0, 0, 0, 0],\n",
       "        [0, 1, 0, 1, 1],\n",
       "        [0, 0, 0, 0, 0],\n",
       "        [1, 0, 0, 0, 0]],\n",
       "\n",
       "       [[0, 0, 0, 1, 0],\n",
       "        [0, 0, 0, 0, 0],\n",
       "        [0, 1, 0, 1, 1],\n",
       "        [0, 0, 0, 0, 0],\n",
       "        [1, 0, 0, 0, 0]],\n",
       "\n",
       "       [[0, 0, 0, 1, 0],\n",
       "        [0, 0, 0, 0, 0],\n",
       "        [0, 1, 0, 1, 1],\n",
       "        [0, 0, 0, 0, 0],\n",
       "        [1, 0, 0, 0, 0]],\n",
       "\n",
       "       [[0, 0, 0, 1, 0],\n",
       "        [0, 0, 0, 0, 0],\n",
       "        [0, 1, 0, 1, 1],\n",
       "        [0, 0, 0, 0, 0],\n",
       "        [1, 0, 0, 0, 0]],\n",
       "\n",
       "       [[0, 0, 0, 1, 0],\n",
       "        [0, 0, 0, 0, 0],\n",
       "        [0, 1, 0, 1, 1],\n",
       "        [0, 0, 0, 0, 0],\n",
       "        [1, 0, 0, 0, 0]]])"
      ]
     },
     "execution_count": 19,
     "metadata": {},
     "output_type": "execute_result"
    }
   ],
   "source": [
    "trace['dag']"
   ]
  },
  {
   "cell_type": "markdown",
   "metadata": {},
   "source": [
    "If we want to find the optimal DAG, we need to optimize the objective. Starting from a random sample from above:"
   ]
  },
  {
   "cell_type": "code",
   "execution_count": 20,
   "metadata": {},
   "outputs": [],
   "source": [
    "best = trace['dag'][0].copy()\n",
    "best_score = -numpy.Inf\n",
    "numpy.random.seed(2)\n",
    "\n",
    "for i in range(100):\n",
    "    adj, score = step.random(adj)\n",
    "    if best_score < score:\n",
    "        best = adj.copy()\n",
    "        best_score = score"
   ]
  },
  {
   "cell_type": "markdown",
   "metadata": {},
   "source": [
    "Let's see if the learnt structure is fine. Remember that we can only identify the equivalence class of a DAG, so don't be alarmed if arrows other than v-structures are reversed."
   ]
  },
  {
   "cell_type": "code",
   "execution_count": 21,
   "metadata": {},
   "outputs": [
    {
     "data": {
      "image/png": "[encoded data removed]",
      "text/plain": [
       "<Figure size 432x288 with 1 Axes>"
      ]
     },
     "metadata": {},
     "output_type": "display_data"
    }
   ],
   "source": [
    "G = bn.distribution.as_graph(best)\n",
    "networkx.draw(G, pos=layout, with_labels=True)"
   ]
  }
 ],
 "metadata": {
  "kernelspec": {
   "display_name": "Python (ML)",
   "language": "python",
   "name": "ml"
  },
  "language_info": {
   "codemirror_mode": {
    "name": "ipython",
    "version": 3
   },
   "file_extension": ".py",
   "mimetype": "text/x-python",
   "name": "python",
   "nbconvert_exporter": "python",
   "pygments_lexer": "ipython3",
   "version": "3.6.8"
  }
 },
 "nbformat": 4,
 "nbformat_minor": 2
}
