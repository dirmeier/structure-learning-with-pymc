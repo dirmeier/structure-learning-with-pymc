{
 "cells": [
  {
   "cell_type": "code",
   "execution_count": 1,
   "metadata": {},
   "outputs": [],
   "source": [
    "import numpy\n",
    "\n",
    "import networkx\n",
    "import matplotlib.pyplot as plt\n",
    "import pandas as pd\n",
    "\n",
    "from bn.bayesian_network import BayesianNetwork\n",
    "from bn.structure_distribution import Structure\n",
    "from bn.variable import Variable"
   ]
  },
  {
   "cell_type": "code",
   "execution_count": null,
   "metadata": {},
   "outputs": [],
   "source": []
  },
  {
   "cell_type": "code",
   "execution_count": 2,
   "metadata": {},
   "outputs": [
    {
     "name": "stdout",
     "output_type": "stream",
     "text": [
      "  difficulty  probability\n",
      "0       easy          0.6\n",
      "1       hard          0.4\n"
     ]
    }
   ],
   "source": [
    "difficulty = Variable(\n",
    "  \"difficulty\",\n",
    "  [\"easy\", \"hard\"],\n",
    "  pd.DataFrame(\n",
    "    {\"difficulty\": [\"easy\", \"hard\"],\n",
    "     \"probability\": [0.6, 0.4]}))\n",
    "print(difficulty.lpd)"
   ]
  },
  {
   "cell_type": "code",
   "execution_count": 3,
   "metadata": {},
   "outputs": [
    {
     "name": "stdout",
     "output_type": "stream",
     "text": [
      "  has_studied  probability\n",
      "0          no          0.7\n",
      "1         yes          0.3\n"
     ]
    }
   ],
   "source": [
    "has_studied = Variable(\n",
    "  \"has_studied\",\n",
    "  [\"no\", \"yes\"],\n",
    "  pd.DataFrame(\n",
    "    {\"has_studied\": [\"no\", \"yes\"],\n",
    "     \"probability\": [0.7, 0.3]}))\n",
    "print(has_studied.lpd)"
   ]
  },
  {
   "cell_type": "code",
   "execution_count": 4,
   "metadata": {},
   "outputs": [
    {
     "name": "stdout",
     "output_type": "stream",
     "text": [
      "  has_studied   sat  probability\n",
      "0          no   low         0.95\n",
      "1          no  high         0.05\n",
      "2         yes   low         0.20\n",
      "3         yes  high         0.80\n"
     ]
    }
   ],
   "source": [
    "sat = Variable(\n",
    "  \"sat\",\n",
    "  [\"low\", \"high\"],\n",
    "  pd.DataFrame(\n",
    "    {\"has_studied\": [\"no\", \"no\", \"yes\", \"yes\"],\n",
    "     \"sat\": [\"low\", \"high\", \"low\", \"high\"],\n",
    "     \"probability\": [0.95, 0.05, 0.2, 0.8]}))\n",
    "print(sat.lpd)"
   ]
  },
  {
   "cell_type": "code",
   "execution_count": 5,
   "metadata": {},
   "outputs": [
    {
     "name": "stdout",
     "output_type": "stream",
     "text": [
      "  grade  letter  probability\n",
      "0  good    weak         0.10\n",
      "1  good  strong         0.90\n",
      "2    ok    weak         0.40\n",
      "3    ok  strong         0.60\n",
      "4   bad    weak         0.99\n",
      "5   bad  strong         0.01\n"
     ]
    }
   ],
   "source": [
    "letter = Variable(\n",
    "  \"letter\",\n",
    "  [\"weak\", \"strong\"],\n",
    "  pd.DataFrame(\n",
    "    {\"grade\": [\"good\", \"good\", \"ok\", \"ok\", \"bad\", \"bad\"],\n",
    "     \"letter\": [\"weak\", \"strong\", \"weak\", \"strong\", \"weak\", \"strong\"],\n",
    "     \"probability\": [0.1, 0.9, 0.4, 0.6, 0.99, 0.01]}))\n",
    "print(letter.lpd)"
   ]
  },
  {
   "cell_type": "code",
   "execution_count": 6,
   "metadata": {},
   "outputs": [
    {
     "name": "stdout",
     "output_type": "stream",
     "text": [
      "   difficulty has_studied grade  probability\n",
      "0        easy          no  good         0.30\n",
      "1        easy          no    ok         0.40\n",
      "2        easy          no   bad         0.30\n",
      "3        hard          no  good         0.05\n",
      "4        hard          no    ok         0.25\n",
      "5        hard          no   bad         0.70\n",
      "6        easy         yes  good         0.90\n",
      "7        easy         yes    ok         0.08\n",
      "8        easy         yes   bad         0.02\n",
      "9        hard         yes  good         0.50\n",
      "10       hard         yes    ok         0.30\n",
      "11       hard         yes   bad         0.20\n"
     ]
    }
   ],
   "source": [
    "grade = Variable(\n",
    "  \"grade\",\n",
    "  [\"good\", \"ok\", \"bad\"],\n",
    "  pd.DataFrame(\n",
    "    {\"difficulty\": [\"easy\", \"easy\", \"easy\", \n",
    "                    \"hard\", \"hard\", \"hard\", \n",
    "                    \"easy\", \"easy\", \"easy\", \n",
    "                    \"hard\", \"hard\", \"hard\"],\n",
    "     \"has_studied\": [\"no\", \"no\", \"no\", \n",
    "                     \"no\", \"no\", \"no\", \n",
    "                     \"yes\", \"yes\", \"yes\",\n",
    "                     \"yes\", \"yes\", \"yes\"],\n",
    "     \"grade\": [\"good\", \"ok\", \"bad\", \n",
    "               \"good\", \"ok\", \"bad\",\n",
    "               \"good\", \"ok\", \"bad\",\n",
    "               \"good\", \"ok\", \"bad\"],\n",
    "     \"probability\": [0.3, 0.4, 0.3, \n",
    "                     0.05, 0.25, 0.7, \n",
    "                     0.9, 0.08, 0.02,\n",
    "                     0.5, 0.3, 0.2]}))\n",
    "print(grade.lpd)"
   ]
  },
  {
   "cell_type": "code",
   "execution_count": 7,
   "metadata": {},
   "outputs": [],
   "source": [
    "adj = numpy.array(\n",
    "  [\n",
    "      [0, 1, 0, 0, 0],\n",
    "      [0, 0, 0, 1, 0],\n",
    "      [0, 1, 0, 0, 1],\n",
    "      [0, 0, 0, 0, 0],\n",
    "      [0, 0, 0, 0, 0]\n",
    "  ], dtype=numpy.int8)"
   ]
  },
  {
   "cell_type": "code",
   "execution_count": 10,
   "metadata": {},
   "outputs": [],
   "source": [
    "bn = BayesianNetwork([difficulty, grade, has_studied, letter, sat], adj)\n",
    "G = bn.as_graph()"
   ]
  },
  {
   "cell_type": "code",
   "execution_count": 11,
   "metadata": {},
   "outputs": [],
   "source": [
    "layout = networkx.shell_layout(G)\n",
    "layout[difficulty] = numpy.array([2, 4])\n",
    "layout[has_studied] = numpy.array([4, 4])\n",
    "layout[grade] = numpy.array([3, 3])\n",
    "layout[letter] = numpy.array([3, 2])\n",
    "layout[sat] = numpy.array([4, 3])"
   ]
  },
  {
   "cell_type": "code",
   "execution_count": 13,
   "metadata": {},
   "outputs": [
    {
     "data": {
      "image/png": "[encoded data removed]",
      "text/plain": [
       "<Figure size 432x288 with 1 Axes>"
      ]
     },
     "metadata": {},
     "output_type": "display_data"
    }
   ],
   "source": [
    "networkx.draw(G, pos=layout, with_labels=True)"
   ]
  },
  {
   "cell_type": "code",
   "execution_count": 14,
   "metadata": {},
   "outputs": [
    {
     "data": {
      "text/html": [
       "<div>\n",
       "<style scoped>\n",
       "    .dataframe tbody tr th:only-of-type {\n",
       "        vertical-align: middle;\n",
       "    }\n",
       "\n",
       "    .dataframe tbody tr th {\n",
       "        vertical-align: top;\n",
       "    }\n",
       "\n",
       "    .dataframe thead th {\n",
       "        text-align: right;\n",
       "    }\n",
       "</style>\n",
       "<table border=\"1\" class=\"dataframe\">\n",
       "  <thead>\n",
       "    <tr style=\"text-align: right;\">\n",
       "      <th></th>\n",
       "      <th>difficulty</th>\n",
       "      <th>grade</th>\n",
       "      <th>has_studied</th>\n",
       "      <th>letter</th>\n",
       "      <th>sat</th>\n",
       "    </tr>\n",
       "  </thead>\n",
       "  <tbody>\n",
       "    <tr>\n",
       "      <th>0</th>\n",
       "      <td>easy</td>\n",
       "      <td>good</td>\n",
       "      <td>yes</td>\n",
       "      <td>strong</td>\n",
       "      <td>low</td>\n",
       "    </tr>\n",
       "    <tr>\n",
       "      <th>1</th>\n",
       "      <td>easy</td>\n",
       "      <td>ok</td>\n",
       "      <td>yes</td>\n",
       "      <td>weak</td>\n",
       "      <td>high</td>\n",
       "    </tr>\n",
       "    <tr>\n",
       "      <th>2</th>\n",
       "      <td>easy</td>\n",
       "      <td>good</td>\n",
       "      <td>no</td>\n",
       "      <td>strong</td>\n",
       "      <td>low</td>\n",
       "    </tr>\n",
       "    <tr>\n",
       "      <th>3</th>\n",
       "      <td>hard</td>\n",
       "      <td>good</td>\n",
       "      <td>yes</td>\n",
       "      <td>strong</td>\n",
       "      <td>high</td>\n",
       "    </tr>\n",
       "    <tr>\n",
       "      <th>4</th>\n",
       "      <td>easy</td>\n",
       "      <td>good</td>\n",
       "      <td>no</td>\n",
       "      <td>strong</td>\n",
       "      <td>high</td>\n",
       "    </tr>\n",
       "  </tbody>\n",
       "</table>\n",
       "</div>"
      ],
      "text/plain": [
       "  difficulty grade has_studied  letter   sat\n",
       "0       easy  good         yes  strong   low\n",
       "1       easy    ok         yes    weak  high\n",
       "2       easy  good          no  strong   low\n",
       "3       hard  good         yes  strong  high\n",
       "4       easy  good          no  strong  high"
      ]
     },
     "execution_count": 14,
     "metadata": {},
     "output_type": "execute_result"
    }
   ],
   "source": [
    "data = bn.sample_data(100)\n",
    "data.head()"
   ]
  },
  {
   "cell_type": "code",
   "execution_count": 15,
   "metadata": {},
   "outputs": [],
   "source": [
    "distr = Structure([difficulty, grade, has_studied, letter, sat])"
   ]
  },
  {
   "cell_type": "code",
   "execution_count": 16,
   "metadata": {},
   "outputs": [],
   "source": [
    "numpy.random.seed(23)\n",
    "adj = numpy.zeros_like(adj, dtype=numpy.int8)\n",
    "best, best_score = adj, -numpy.Inf\n",
    "for i in range(100):\n",
    "    adj, score = distr.posterior_sample(data, adj)\n",
    "    if best_score < score:\n",
    "        best = adj\n",
    "        best_score = score"
   ]
  },
  {
   "cell_type": "code",
   "execution_count": 17,
   "metadata": {},
   "outputs": [
    {
     "name": "stdout",
     "output_type": "stream",
     "text": [
      "True\n"
     ]
    },
    {
     "data": {
      "image/png": "[encoded data removed]",
      "text/plain": [
       "<Figure size 432x288 with 1 Axes>"
      ]
     },
     "metadata": {},
     "output_type": "display_data"
    }
   ],
   "source": [
    "G = bn.as_graph(best)\n",
    "print(networkx.is_directed_acyclic_graph(G))\n",
    "networkx.draw(G, pos=layout, with_labels=True)\n",
    "plt.show()"
   ]
  }
 ],
 "metadata": {
  "kernelspec": {
   "display_name": "Python (ML)",
   "language": "python",
   "name": "ml"
  },
  "language_info": {
   "codemirror_mode": {
    "name": "ipython",
    "version": 3
   },
   "file_extension": ".py",
   "mimetype": "text/x-python",
   "name": "python",
   "nbconvert_exporter": "python",
   "pygments_lexer": "ipython3",
   "version": "3.6.8"
  }
 },
 "nbformat": 4,
 "nbformat_minor": 2
}
